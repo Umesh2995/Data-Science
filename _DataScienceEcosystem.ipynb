{
 "cells": [
  {
   "cell_type": "markdown",
   "id": "adaa181f",
   "metadata": {},
   "source": [
    "Science Tools and Ecosystem"
   ]
  },
  {
   "cell_type": "markdown",
   "id": "4f8b95f4",
   "metadata": {},
   "source": [
    "In this notebook, Data Science Tools and Ecosystem are summarized."
   ]
  },
  {
   "cell_type": "markdown",
   "id": "8e0e4a04",
   "metadata": {},
   "source": [
    "Some of the popular languages that Data Scientists use are: R, Python , ruby ,SQL, Julia, Scala"
   ]
  },
  {
   "cell_type": "markdown",
   "id": "4ecc21e8",
   "metadata": {},
   "source": [
    "    Some of the commonly used libraries used by Data Scientists include: Pandas, Numpy, Gspread, Matplotlib, Scikit-learn, TensorFlow, Keras"
   ]
  },
  {
   "cell_type": "markdown",
   "id": "6dbd1170",
   "metadata": {},
   "source": [
    "Data Science Tools, \n",
    "Jupyter Notebook, \n",
    "RStudio, \n",
    "Apache Zeppelin\n"
   ]
  },
  {
   "cell_type": "markdown",
   "id": "c5f5c382",
   "metadata": {},
   "source": [
    "2+3\n",
    "5+4\n",
    "6/7\n",
    "\n",
    "Below are a few examples of evaluating arithmetic expressions in Python."
   ]
  },
  {
   "cell_type": "code",
   "execution_count": 6,
   "id": "f4ea0217",
   "metadata": {},
   "outputs": [
    {
     "data": {
      "text/plain": [
       "17"
      ]
     },
     "execution_count": 6,
     "metadata": {},
     "output_type": "execute_result"
    }
   ],
   "source": [
    "(3*4)+5"
   ]
  },
  {
   "cell_type": "markdown",
   "id": "a31c4344",
   "metadata": {},
   "source": [
    "This will convert 200 minutes to hours by dividing by 60"
   ]
  },
  {
   "cell_type": "code",
   "execution_count": 7,
   "id": "444bf512",
   "metadata": {},
   "outputs": [
    {
     "data": {
      "text/plain": [
       "3.3333333333333335"
      ]
     },
     "execution_count": 7,
     "metadata": {},
     "output_type": "execute_result"
    }
   ],
   "source": [
    "200/60"
   ]
  },
  {
   "cell_type": "markdown",
   "id": "9900b7b8",
   "metadata": {},
   "source": [
    "Objectives:\n",
    "\n",
    "1) List popular languages for Data Science\n",
    ", 2)List commonly used libraries in Data Science\n",
    ", 3) Demonstrate arithmetic operations in Python\n",
    ", 4) Convert time units in Python\n",
    ", 5) Summarize Data Science Tools and Ecosystem"
   ]
  },
  {
   "cell_type": "markdown",
   "id": "586c992b",
   "metadata": {},
   "source": [
    "Author Umesh Gowda\n"
   ]
  },
  {
   "cell_type": "code",
   "execution_count": null,
   "id": "dbbd76ea",
   "metadata": {},
   "outputs": [],
   "source": []
  }
 ],
 "metadata": {
  "kernelspec": {
   "display_name": "Python 3 (ipykernel)",
   "language": "python",
   "name": "python3"
  },
  "language_info": {
   "codemirror_mode": {
    "name": "ipython",
    "version": 3
   },
   "file_extension": ".py",
   "mimetype": "text/x-python",
   "name": "python",
   "nbconvert_exporter": "python",
   "pygments_lexer": "ipython3",
   "version": "3.10.9"
  }
 },
 "nbformat": 4,
 "nbformat_minor": 5
}
